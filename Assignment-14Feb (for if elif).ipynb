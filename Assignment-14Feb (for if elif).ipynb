{
 "cells": [
  {
   "cell_type": "code",
   "execution_count": null,
   "metadata": {},
   "outputs": [],
   "source": [
    "#code to find the bigger of three numbers\n",
    "x=int(input(\"enter x\"))\n",
    "y=int(input(\"enter y\"))\n",
    "z=int(input(\"enter z\"))\n",
    "\n",
    "if (x>=y) and (x>=z):\n",
    "    print(\"%d is bigger\"%(x))\n",
    "elif (y>=x) and (y>=z):\n",
    "        print(\"%d is bigger\"%(y))\n",
    "else:\n",
    "    print(\"%d is bigger\"%(z))"
   ]
  },
  {
   "cell_type": "code",
   "execution_count": 9,
   "metadata": {},
   "outputs": [
    {
     "name": "stdout",
     "output_type": "stream",
     "text": [
      "enter a number44\n",
      "44 is even\n"
     ]
    }
   ],
   "source": [
    "#code to find whether the input is odd or even\n",
    "x=int(input(\"enter a number\"))\n",
    "if x%2==0:\n",
    "    print(\"%d is even\"%(x))\n",
    "else:\n",
    "    print(\"%d is odd\"%(x))"
   ]
  },
  {
   "cell_type": "code",
   "execution_count": 13,
   "metadata": {},
   "outputs": [
    {
     "name": "stdout",
     "output_type": "stream",
     "text": [
      "enter f first number241\n",
      "enter second number2345\n",
      "second number entered 2345 is bigger\n"
     ]
    }
   ],
   "source": [
    "# input two numbers and find the biggest\n",
    "x=int(input(\"enter f first number\"))\n",
    "y=int(input(\"enter second number\"))\n",
    "if x>y:\n",
    "    print(\"first number entered %d is bigger\"%(x))\n",
    "else:\n",
    "    print(\"second number entered %d is bigger\"%(y))"
   ]
  },
  {
   "cell_type": "code",
   "execution_count": 14,
   "metadata": {},
   "outputs": [
    {
     "name": "stdout",
     "output_type": "stream",
     "text": [
      "enter f first number2352\n",
      "enter second number2341\n",
      "second number entered 2341 is smaller\n"
     ]
    }
   ],
   "source": [
    "# input two numbers and find the smaller number\n",
    "x=int(input(\"enter f first number\"))\n",
    "y=int(input(\"enter second number\"))\n",
    "if x<y:\n",
    "    print(\"first number entered %d is smaller\"%(x))\n",
    "else:\n",
    "    print(\"second number entered %d is smaller\"%(y))"
   ]
  },
  {
   "cell_type": "code",
   "execution_count": null,
   "metadata": {},
   "outputs": [],
   "source": [
    "#Age validation\n",
    "a=input(\"enter name\")\n",
    "b=int(input(\"enter age\"))\n",
    "\n",
    "if b<=18:\n",
    "    print(\"%s whose age is %d is a minor\" %(a,b))\n",
    "elif b>18 and b<=60:\n",
    "    print(\"%s whose age is %d is middle aged\" %(a,b))\n",
    "else:\n",
    "    print(\"%s whose age is %d is a Senior Citizen\" %(a,b))"
   ]
  },
  {
   "cell_type": "code",
   "execution_count": 14,
   "metadata": {},
   "outputs": [
    {
     "name": "stdout",
     "output_type": "stream",
     "text": [
      "enter nameAvi\n",
      "enter SubjectMaths\n",
      "enter Score89\n",
      "Avi has scored 89 in Maths and has passed with DISTINCTION\n"
     ]
    }
   ],
   "source": [
    "#Score validation\n",
    "a=input(\"enter name\")\n",
    "b=input(\"enter Subject\")\n",
    "c=int(input(\"enter Score\"))\n",
    "if c>100 or c<0:\n",
    "    print(\"Enter correct score\")\n",
    "elif (c<35):\n",
    "    print(\"%s has scored %d in %s and has failed\" %(a,c,b))\n",
    "elif c>=35 and c<=60:\n",
    "    print(\"%s has scored %d in %s and has passed with b grade\" %(a,c,b))\n",
    "elif c>60 and c<70:\n",
    "    print(\"%s has scored %d in %s and has passed with A grade\" %(a,c,b))\n",
    "else:\n",
    "    print(\"%s has scored %d in %s and has passed with DISTINCTION\" %(a,c,b))"
   ]
  },
  {
   "cell_type": "code",
   "execution_count": null,
   "metadata": {},
   "outputs": [],
   "source": []
  },
  {
   "cell_type": "code",
   "execution_count": null,
   "metadata": {},
   "outputs": [],
   "source": []
  }
 ],
 "metadata": {
  "kernelspec": {
   "display_name": "Python 3",
   "language": "python",
   "name": "python3"
  },
  "language_info": {
   "codemirror_mode": {
    "name": "ipython",
    "version": 3
   },
   "file_extension": ".py",
   "mimetype": "text/x-python",
   "name": "python",
   "nbconvert_exporter": "python",
   "pygments_lexer": "ipython3",
   "version": "3.7.1"
  }
 },
 "nbformat": 4,
 "nbformat_minor": 2
}
