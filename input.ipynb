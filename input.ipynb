{
 "cells": [
  {
   "cell_type": "code",
   "execution_count": 4,
   "metadata": {},
   "outputs": [
    {
     "name": "stdout",
     "output_type": "stream",
     "text": [
      "enter number-14\n",
      "-14 is negative\n"
     ]
    }
   ],
   "source": [
    "num=int(input(\"enter number\"))\n",
    "if (num>0):\n",
    "    print(\"%d is positive\"%(num))\n",
    "else:\n",
    "    print(\"%d is negative\"%(num))"
   ]
  },
  {
   "cell_type": "code",
   "execution_count": 8,
   "metadata": {},
   "outputs": [
    {
     "name": "stdout",
     "output_type": "stream",
     "text": [
      "enter x12\n",
      "enter y12\n",
      "12 is bigger\n"
     ]
    }
   ],
   "source": [
    "x=int(input(\"enter x\"))\n",
    "y=int(input(\"enter y\"))\n",
    "if (x>y):\n",
    "    print(\"%d is bigger\"%(x))\n",
    "else:\n",
    "    print(\"%d is bigger\"%(y))"
   ]
  },
  {
   "cell_type": "code",
   "execution_count": 16,
   "metadata": {},
   "outputs": [
    {
     "name": "stdout",
     "output_type": "stream",
     "text": [
      "enter x23\n",
      "enter y34\n",
      "enter z345\n",
      "345 is bigger\n"
     ]
    }
   ],
   "source": [
    "x=int(input(\"enter x\"))\n",
    "y=int(input(\"enter y\"))\n",
    "z=int(input(\"enter z\"))\n",
    "\n",
    "if (x>=y) and (x>=z):\n",
    "    print(\"%d is bigger\"%(x))\n",
    "elif (y>=x) and (y>=z):\n",
    "        print(\"%d is bigger\"%(y))\n",
    "else:\n",
    "    print(\"%d is bigger\"%(z))"
   ]
  },
  {
   "cell_type": "code",
   "execution_count": null,
   "metadata": {},
   "outputs": [],
   "source": []
  }
 ],
 "metadata": {
  "kernelspec": {
   "display_name": "Python 3",
   "language": "python",
   "name": "python3"
  },
  "language_info": {
   "codemirror_mode": {
    "name": "ipython",
    "version": 3
   },
   "file_extension": ".py",
   "mimetype": "text/x-python",
   "name": "python",
   "nbconvert_exporter": "python",
   "pygments_lexer": "ipython3",
   "version": "3.7.1"
  }
 },
 "nbformat": 4,
 "nbformat_minor": 2
}
